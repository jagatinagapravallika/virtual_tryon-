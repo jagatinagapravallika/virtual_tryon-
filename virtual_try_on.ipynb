{
  "nbformat": 4,
  "nbformat_minor": 0,
  "metadata": {
    "colab": {
      "provenance": []
    },
    "kernelspec": {
      "name": "python3",
      "display_name": "Python 3"
    },
    "language_info": {
      "name": "python"
    }
  },
  "cells": [
    {
      "cell_type": "code",
      "execution_count": null,
      "metadata": {
        "id": "MUpvRksGPLnr"
      },
      "outputs": [],
      "source": [
        "!pip install diffusers accelerate"
      ]
    },
    {
      "cell_type": "code",
      "source": [
        "\n",
        "from diffusers import AutoPipelineForInpainting, AutoencoderKL\n",
        "from diffusers.utils import load_image\n",
        "import torch"
      ],
      "metadata": {
        "id": "O7jlIlGlP4Mn"
      },
      "execution_count": null,
      "outputs": []
    },
    {
      "cell_type": "code",
      "source": [
        "vae = AutoencoderKL.from_pretrained(\"madebyollin/sdxl-vae-fp16-fix\", torch_dtype=torch.float16)\n",
        "pipeline = AutoPipelineForInpainting.from_pretrained(\"diffusers/stable-diffusion-xl-1.0-inpainting-0.1\", vae=vae, torch_dtype=torch.float16, variant=\"fp16\", use_safetensors=True).to(\"cuda\")\n",
        "pipeline.load_ip_adapter(\"h94/IP-Adapter\", subfolder=\"sdxl_models\", weight_name=\"ip-adapter_sdxl.bin\", low_cpu_mem_usage=True)"
      ],
      "metadata": {
        "id": "kMiq5cs0QM5b"
      },
      "execution_count": null,
      "outputs": []
    },
    {
      "source": [
        "from diffusers import AutoPipelineForInpainting, AutoencoderKL\n",
        "from diffusers.utils import load_image\n",
        "import torch\n",
        "\n",
        "vae = AutoencoderKL.from_pretrained(\"madebyollin/sdxl-vae-fp16-fix\", torch_dtype=torch.float16)\n",
        "# Removed .to(\"cuda\") to run on CPU\n",
        "pipeline = AutoPipelineForInpainting.from_pretrained(\"diffusers/stable-diffusion-xl-1.0-inpainting-0.1\", vae=vae, torch_dtype=torch.float16, variant=\"fp16\", use_safetensors=True)\n",
        "pipeline.load_ip_adapter(\"h94/IP-Adapter\", subfolder=\"sdxl_models\", weight_name=\"ip-adapter_sdxl.bin\", low_cpu_mem_usage=True)"
      ],
      "cell_type": "code",
      "metadata": {
        "id": "Me2imlmcRWKC"
      },
      "execution_count": null,
      "outputs": []
    },
    {
      "source": [
        "# Assuming the file 'Sample Task-2-2-1.jpeg' is located in the '/content/' directory\n",
        "image = load_image('/content/Sample Task-2-2-1.jpeg').convert(\"RGB\")\n",
        "image.resize((512, 512))"
      ],
      "cell_type": "code",
      "metadata": {
        "id": "33OzGXoT1L3B"
      },
      "execution_count": null,
      "outputs": []
    },
    {
      "cell_type": "code",
      "source": [
        "ip_image = load_image(\"/content/pics.jpeg\").convert(\"RGB\")\n",
        "ip_image.resize((512, 512))"
      ],
      "metadata": {
        "id": "EdKMyA6VTgWJ"
      },
      "execution_count": null,
      "outputs": []
    },
    {
      "cell_type": "code",
      "source": [
        "! git clone https://github.com/TonyAssi/Segment-Body.git\n",
        "%cd /content/Segment-Body\n",
        "! pip install -r requirements.txt\n",
        "! cp ./SegBody.py ..\n",
        "%cd .."
      ],
      "metadata": {
        "id": "gamkjcgLTvbT"
      },
      "execution_count": null,
      "outputs": []
    },
    {
      "cell_type": "code",
      "source": [
        "from SegBody import segment_body\n",
        "seg_image, mask_image = segment_body(image, face=False)\n",
        "mask_image.resize((512, 512))"
      ],
      "metadata": {
        "id": "cupcoTT12xC1"
      },
      "execution_count": null,
      "outputs": []
    },
    {
      "cell_type": "code",
      "source": [
        "pipeline.set_ip_adapter_scale(1.0)\n",
        "images = pipeline(\n",
        "    prompt=\"photorealistic, perfect body, beautiful skin, realistic skin, natural skin\",\n",
        "    negative_prompt=\"ugly, bad quality, bad anatomy, deformed body, deformed hands, deformed feet, deformed face, deformed clothing, deformed skin, bad skin, leggings, tights, stockings\",\n",
        "    image=image,\n",
        "    mask_image=mask_image,\n",
        "    ip_adapter_image=ip_image,\n",
        "    strength=0.99,\n",
        "    guidance_scale=7.5,\n",
        "    num_inference_steps=100,\n",
        ").images\n",
        "images[0]"
      ],
      "metadata": {
        "id": "gnx6JT373Zex"
      },
      "execution_count": null,
      "outputs": []
    }
  ]
}